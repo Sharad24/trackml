{
 "cells": [
  {
   "cell_type": "code",
   "execution_count": null,
   "metadata": {},
   "outputs": [],
   "source": [
    "%matplotlib inline\n",
    "import pandas as pd\n",
    "import os\n",
    "import matplotlib.pyplot as plt\n",
    "import math\n",
    "import numpy as np\n",
    "import scipy\n",
    "import scipy.stats\n",
    "plt.rcParams[\"figure.figsize\"] = (12,7)\n",
    "#plt.rc('text', usetex=True)"
   ]
  },
  {
   "cell_type": "code",
   "execution_count": null,
   "metadata": {},
   "outputs": [],
   "source": [
    "df = pd.read_csv(\"/atlas/scratch0/pagessin/dev/acts-core/build/solenoid.csv\", delimiter=\";\")\n",
    "df[\"B\"] = np.sqrt(df.B_x**2 + df.B_y**2 + df.B_z**2)\n",
    "display(df.head())\n",
    "display(df.tail())"
   ]
  },
  {
   "cell_type": "code",
   "execution_count": null,
   "metadata": {},
   "outputs": [],
   "source": [
    "plt.quiver(df.z, df.x, df.B_z, df.B_x, df.B, pivot=\"mid\")"
   ]
  },
  {
   "cell_type": "code",
   "execution_count": null,
   "metadata": {},
   "outputs": [],
   "source": [
    "dfmap = pd.read_csv(\"/atlas/scratch0/pagessin/dev/acts-core/build/solenoidmap.csv\", delimiter=\";\")\n",
    "dfmap[\"B\"] = np.sqrt(dfmap.B_r**2 + dfmap.B_z**2)#*1e16\n",
    "#df.i = df.i.astype(int)\n",
    "#df.j = df.j.astype(int)\n",
    "nBinsR = dfmap.i.max()\n",
    "nBinsZ = dfmap.j.max()\n",
    "rmin = dfmap.r.min()\n",
    "rmax = dfmap.r.max()\n",
    "zmin = dfmap.z.min()\n",
    "zmax = dfmap.z.max()\n",
    "rmax -= rmax/nBinsR\n",
    "print(nBinsR, nBinsZ)\n",
    "print(rmin, rmax, zmin, zmax)\n",
    "display(dfmap.head())\n",
    "display(dfmap.tail())"
   ]
  },
  {
   "cell_type": "code",
   "execution_count": null,
   "metadata": {},
   "outputs": [],
   "source": [
    "#hist, xedges, yedges = np.histogram2d([], [], bins=(nBinsZ, nBinsR), range=((zmin, zmax), (rmin, rmax))) \n",
    "#extent  = [xedges[0], xedges[-1], yedges[0], yedges[-1]]\n",
    "\n",
    "hist = np.zeros((nBinsR-1, nBinsZ))\n",
    "\n",
    "for index, row in dfmap.iterrows():\n",
    "    i, j = int(row.i-1), int(row.j-1)\n",
    "    if i<nBinsR-1:\n",
    "        hist[i][j] = row.B\n",
    "        \n",
    "    #hist[int(row.i-1), int(row.j-1)] = math.sqrt(row.B_r**2 + row.B_z**2)\n",
    "\n",
    "#print(hist)\n",
    "plt.clf()\n",
    "plt.imshow(hist, origin='lower', extent=(zmin, zmax, rmin, rmax), aspect=2)"
   ]
  },
  {
   "cell_type": "code",
   "execution_count": null,
   "metadata": {},
   "outputs": [],
   "source": [
    "#z, r = np.mgrid[-4.:4.:400j,-2.:2.:200j]\n",
    "#z, r"
   ]
  },
  {
   "cell_type": "code",
   "execution_count": null,
   "metadata": {},
   "outputs": [],
   "source": [
    "df = pd.read_csv(\"/atlas/scratch0/pagessin/dev/acts-core/build/magfield_lookup.csv\", delimiter=\";\")\n",
    "df[\"r\"] = np.sqrt(df.x**2 + df.y**2)\n",
    "df[\"B_r\"] = np.sqrt(df.B_x**2 + df.B_y**2)\n",
    "df[\"B\"] = np.sqrt(df.B_x**2 + df.B_y**2 + df.B_z**2)\n",
    "df[\"Bm_r\"] = np.sqrt(df.Bm_x**2 + df.Bm_y**2)\n",
    "df[\"Bm\"] = np.sqrt(df.Bm_x**2 + df.Bm_y**2 + df.Bm_z**2)\n",
    "df[\"Berr\"] = (df.B - df.Bm)/df.B\n",
    "df[\"Babserr\"] = np.abs(df.B - df.Bm)/df.B\n",
    "df[\"B_ratio\"] = df.Bm / df.B\n",
    "#display(df.head())\n",
    "#display(df.tail())"
   ]
  },
  {
   "cell_type": "code",
   "execution_count": null,
   "metadata": {},
   "outputs": [],
   "source": [
    "#df = df[df[\"r\"] < 1220]"
   ]
  },
  {
   "cell_type": "code",
   "execution_count": null,
   "metadata": {},
   "outputs": [],
   "source": [
    "rmin, rmax = math.floor(df.r.min()), math.ceil(df.r.max())\n",
    "zmin, zmax = math.floor(df.z.min()), math.ceil(df.z.max())\n",
    "print(rmin, rmax, zmin, zmax)"
   ]
  },
  {
   "cell_type": "code",
   "execution_count": null,
   "metadata": {},
   "outputs": [],
   "source": [
    "def hist(x, y, v, bins, extent):\n",
    "    hist, *_ = scipy.stats.binned_statistic_2d(x, y, v, bins=bins)\n",
    "    plt.imshow(hist, origin=\"lower\", extent=extent, aspect='auto')\n",
    "\n",
    "bins = (150, 200)    \n",
    "\n",
    "hist(df.r, df.z, df.B, bins=bins, extent=(zmin, zmax, rmin, rmax))\n",
    "plt.colorbar()\n",
    "plt.show()\n",
    "hist(df.r, df.z, df.Bm, bins=bins, extent=(zmin, zmax, rmin, rmax))\n",
    "plt.colorbar()\n",
    "plt.show()\n",
    "hist(df.r, df.z, df.Babserr, bins=bins, extent=(zmin, zmax, rmin, rmax))\n",
    "plt.colorbar()\n",
    "plt.show()\n",
    "hist(df.r, df.z, df.B_ratio, bins=bins, extent=(zmin, zmax, rmin, rmax))\n",
    "plt.colorbar()\n",
    "plt.show()"
   ]
  },
  {
   "cell_type": "code",
   "execution_count": null,
   "metadata": {},
   "outputs": [],
   "source": [
    "plt.semilogy()\n",
    "bins = 200\n",
    "#print(plt.xlabel)\n",
    "plt.title(\"Mapped field value over 'true' field value\")\n",
    "plt.xlabel(r\"$B_{m}/B$\")\n",
    "plt.ylabel(\"count\")\n",
    "plt.hist(df.B_ratio[df.r > 100], bins=bins, range=(0, 5), label=r\"$r>100$\");\n",
    "plt.hist(df.B_ratio[df.r < 100], histtype='step', bins=bins, range=(0, 5), fill=False, linewidth=3, label=r\"$r<100$\");\n",
    "plt.legend()\n",
    "#df.Berr[df.Berr > -2].min()"
   ]
  },
  {
   "cell_type": "code",
   "execution_count": null,
   "metadata": {},
   "outputs": [],
   "source": []
  },
  {
   "cell_type": "code",
   "execution_count": null,
   "metadata": {},
   "outputs": [],
   "source": [
    "def hist1d(x, y, **kwargs):\n",
    "    x = np.copy(x)\n",
    "    step = abs(x[1] - x[0])\n",
    "    xmin, xmax = x.min(), x.max()\n",
    "    #print(x)\n",
    "    x += step/2\n",
    "    #print(x)\n",
    "    plt.hist(x[:-1], bins=len(x)-1, weights=y, range=(xmin, xmax), **kwargs)\n",
    "\n",
    "plt.subplot(211)\n",
    "hist, bin_edges_r, _ = scipy.stats.binned_statistic(df.r, df.B, bins=50)\n",
    "plt.xlabel(\"r [mm]\")\n",
    "plt.ylabel(r\"$B_{\\rm{solenoid}}$\")\n",
    "hist1d(bin_edges_r, hist)\n",
    "hist_bm, _, _ = scipy.stats.binned_statistic(df.r, df.Bm, bins=50)\n",
    "hist1d(bin_edges_r, hist_bm, histtype=\"step\", fill=False, lw=3)\n",
    "\n",
    "ratio_r = hist_bm / hist\n",
    "plt.subplot(212)\n",
    "plt.plot(bin_edges_r[:-1], ratio_r)\n",
    "plt.xlabel(\"z [mm]\")\n",
    "plt.ylabel(r\"$B_m / b$\")\n",
    "plt.show()\n",
    "\n",
    "plt.subplot(211)\n",
    "hist, bin_edges_z, _ = scipy.stats.binned_statistic(df.z, df.B, bins=50)\n",
    "plt.xlabel(\"z [mm]\")\n",
    "plt.ylabel(r\"$B_{\\rm{solenoid}}$\")\n",
    "hist1d(bin_edges_z, hist)\n",
    "hist_bm, _, _ = scipy.stats.binned_statistic(df.z, df.Bm, bins=50)\n",
    "hist1d(bin_edges_z, hist_bm, histtype=\"step\", fill=False, lw=3)\n",
    "\n",
    "ratio_z = hist_bm / hist\n",
    "plt.subplot(212)\n",
    "plt.plot(bin_edges_z[:-1], ratio_z)\n",
    "plt.xlabel(\"z [mm]\")\n",
    "plt.ylabel(r\"$B_m / b$\")\n",
    "plt.show()"
   ]
  },
  {
   "cell_type": "code",
   "execution_count": null,
   "metadata": {},
   "outputs": [],
   "source": []
  }
 ],
 "metadata": {
  "kernelspec": {
   "display_name": "Python 3",
   "language": "python",
   "name": "python3"
  },
  "language_info": {
   "codemirror_mode": {
    "name": "ipython",
    "version": 3
   },
   "file_extension": ".py",
   "mimetype": "text/x-python",
   "name": "python",
   "nbconvert_exporter": "python",
   "pygments_lexer": "ipython3",
   "version": "3.6.6"
  }
 },
 "nbformat": 4,
 "nbformat_minor": 2
}
